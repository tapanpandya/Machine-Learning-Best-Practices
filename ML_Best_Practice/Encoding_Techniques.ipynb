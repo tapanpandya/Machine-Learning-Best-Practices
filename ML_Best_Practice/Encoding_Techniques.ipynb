{
 "cells": [
  {
   "cell_type": "code",
   "execution_count": 1,
   "metadata": {},
   "outputs": [],
   "source": [
    "import pandas as pd\n",
    "import numpy as np"
   ]
  },
  {
   "cell_type": "code",
   "execution_count": 2,
   "metadata": {},
   "outputs": [
    {
     "data": {
      "text/html": [
       "<div>\n",
       "<style scoped>\n",
       "    .dataframe tbody tr th:only-of-type {\n",
       "        vertical-align: middle;\n",
       "    }\n",
       "\n",
       "    .dataframe tbody tr th {\n",
       "        vertical-align: top;\n",
       "    }\n",
       "\n",
       "    .dataframe thead th {\n",
       "        text-align: right;\n",
       "    }\n",
       "</style>\n",
       "<table border=\"1\" class=\"dataframe\">\n",
       "  <thead>\n",
       "    <tr style=\"text-align: right;\">\n",
       "      <th></th>\n",
       "      <th>year</th>\n",
       "      <th>facility_type_a</th>\n",
       "      <th>sex</th>\n",
       "      <th>age</th>\n",
       "      <th>rate</th>\n",
       "    </tr>\n",
       "  </thead>\n",
       "  <tbody>\n",
       "    <tr>\n",
       "      <th>0</th>\n",
       "      <td>2009</td>\n",
       "      <td>Acute</td>\n",
       "      <td>Male</td>\n",
       "      <td>0-14 Years</td>\n",
       "      <td>100.1</td>\n",
       "    </tr>\n",
       "    <tr>\n",
       "      <th>1</th>\n",
       "      <td>2009</td>\n",
       "      <td>Acute</td>\n",
       "      <td>Male</td>\n",
       "      <td>15-64 years</td>\n",
       "      <td>62.7</td>\n",
       "    </tr>\n",
       "    <tr>\n",
       "      <th>2</th>\n",
       "      <td>2009</td>\n",
       "      <td>Acute</td>\n",
       "      <td>Male</td>\n",
       "      <td>65 years &amp; over</td>\n",
       "      <td>323.0</td>\n",
       "    </tr>\n",
       "    <tr>\n",
       "      <th>3</th>\n",
       "      <td>2009</td>\n",
       "      <td>Acute</td>\n",
       "      <td>Female</td>\n",
       "      <td>0-14 Years</td>\n",
       "      <td>84.9</td>\n",
       "    </tr>\n",
       "    <tr>\n",
       "      <th>4</th>\n",
       "      <td>2009</td>\n",
       "      <td>Acute</td>\n",
       "      <td>Female</td>\n",
       "      <td>15-64 years</td>\n",
       "      <td>73.5</td>\n",
       "    </tr>\n",
       "  </tbody>\n",
       "</table>\n",
       "</div>"
      ],
      "text/plain": [
       "   year facility_type_a     sex              age   rate\n",
       "0  2009           Acute    Male       0-14 Years  100.1\n",
       "1  2009           Acute    Male      15-64 years   62.7\n",
       "2  2009           Acute    Male  65 years & over  323.0\n",
       "3  2009           Acute  Female       0-14 Years   84.9\n",
       "4  2009           Acute  Female      15-64 years   73.5"
      ]
     },
     "execution_count": 2,
     "metadata": {},
     "output_type": "execute_result"
    }
   ],
   "source": [
    "data = pd.read_csv('dataset/hospital-admission-rate-by-age-and-sex.csv')\n",
    "data.head()"
   ]
  },
  {
   "cell_type": "code",
   "execution_count": 3,
   "metadata": {},
   "outputs": [
    {
     "data": {
      "text/plain": [
       "(198, 5)"
      ]
     },
     "execution_count": 3,
     "metadata": {},
     "output_type": "execute_result"
    }
   ],
   "source": [
    "data.shape"
   ]
  },
  {
   "cell_type": "code",
   "execution_count": 4,
   "metadata": {},
   "outputs": [],
   "source": [
    "X = data.iloc[:,:-1]\n",
    "y = data.iloc[:,-1:]"
   ]
  },
  {
   "cell_type": "code",
   "execution_count": 5,
   "metadata": {},
   "outputs": [
    {
     "data": {
      "text/html": [
       "<div>\n",
       "<style scoped>\n",
       "    .dataframe tbody tr th:only-of-type {\n",
       "        vertical-align: middle;\n",
       "    }\n",
       "\n",
       "    .dataframe tbody tr th {\n",
       "        vertical-align: top;\n",
       "    }\n",
       "\n",
       "    .dataframe thead th {\n",
       "        text-align: right;\n",
       "    }\n",
       "</style>\n",
       "<table border=\"1\" class=\"dataframe\">\n",
       "  <thead>\n",
       "    <tr style=\"text-align: right;\">\n",
       "      <th></th>\n",
       "      <th>year</th>\n",
       "      <th>facility_type_a</th>\n",
       "      <th>sex</th>\n",
       "      <th>age</th>\n",
       "    </tr>\n",
       "  </thead>\n",
       "  <tbody>\n",
       "    <tr>\n",
       "      <th>0</th>\n",
       "      <td>2009</td>\n",
       "      <td>Acute</td>\n",
       "      <td>Male</td>\n",
       "      <td>0-14 Years</td>\n",
       "    </tr>\n",
       "    <tr>\n",
       "      <th>1</th>\n",
       "      <td>2009</td>\n",
       "      <td>Acute</td>\n",
       "      <td>Male</td>\n",
       "      <td>15-64 years</td>\n",
       "    </tr>\n",
       "    <tr>\n",
       "      <th>2</th>\n",
       "      <td>2009</td>\n",
       "      <td>Acute</td>\n",
       "      <td>Male</td>\n",
       "      <td>65 years &amp; over</td>\n",
       "    </tr>\n",
       "    <tr>\n",
       "      <th>3</th>\n",
       "      <td>2009</td>\n",
       "      <td>Acute</td>\n",
       "      <td>Female</td>\n",
       "      <td>0-14 Years</td>\n",
       "    </tr>\n",
       "    <tr>\n",
       "      <th>4</th>\n",
       "      <td>2009</td>\n",
       "      <td>Acute</td>\n",
       "      <td>Female</td>\n",
       "      <td>15-64 years</td>\n",
       "    </tr>\n",
       "  </tbody>\n",
       "</table>\n",
       "</div>"
      ],
      "text/plain": [
       "   year facility_type_a     sex              age\n",
       "0  2009           Acute    Male       0-14 Years\n",
       "1  2009           Acute    Male      15-64 years\n",
       "2  2009           Acute    Male  65 years & over\n",
       "3  2009           Acute  Female       0-14 Years\n",
       "4  2009           Acute  Female      15-64 years"
      ]
     },
     "execution_count": 5,
     "metadata": {},
     "output_type": "execute_result"
    }
   ],
   "source": [
    "X.head()"
   ]
  },
  {
   "cell_type": "code",
   "execution_count": 6,
   "metadata": {},
   "outputs": [
    {
     "data": {
      "text/plain": [
       "array([1.001e+02, 6.270e+01, 3.230e+02, 8.490e+01, 7.350e+01, 2.877e+02,\n",
       "       1.000e-01, 3.300e+00, 2.500e+00, 2.000e-01, 1.900e+00, 2.000e+00,\n",
       "       0.000e+00, 6.000e-01, 1.360e+01, 4.000e-01, 1.640e+01, 1.043e+02,\n",
       "       6.380e+01, 3.396e+02, 8.800e+01, 7.420e+01, 2.953e+02, 3.500e+00,\n",
       "       2.900e+00, 1.800e+00, 7.000e-01, 1.490e+01, 1.690e+01, 1.116e+02,\n",
       "       6.540e+01, 3.452e+02, 9.560e+01, 7.570e+01, 3.080e+02, 2.600e+00,\n",
       "       1.700e+00, 5.000e-01, 1.750e+01, 1.185e+02, 6.670e+01, 3.476e+02,\n",
       "       1.012e+02, 7.720e+01, 3.040e+02, 2.800e+00, 1.400e+00, 1.300e+01,\n",
       "       1.600e+01, 1.202e+02, 7.000e+01, 3.437e+02, 1.020e+02, 7.830e+01,\n",
       "       3.026e+02, 2.700e+00, 1.600e+00, 1.390e+01, 1.680e+01, 1.266e+02,\n",
       "       7.100e+01, 1.094e+02, 8.000e+01, 2.999e+02, 3.000e+00, 1.500e+00,\n",
       "       1.440e+01, 1.670e+01, 1.285e+02, 7.150e+01, 1.120e+02, 8.010e+01,\n",
       "       2.929e+02, 3.200e+00, 2.300e+00, 1.560e+01, 1.800e+01, 1.421e+02,\n",
       "       8.150e+01, 3.667e+02, 1.215e+02, 8.860e+01, 3.141e+02, 2.100e+00,\n",
       "       1.100e+00, 2.030e+01, 8.000e-01, 2.330e+01, 1.427e+02, 8.380e+01,\n",
       "       3.691e+02, 1.243e+02, 9.060e+01, 3.198e+02, 2.200e+00, 1.200e+00,\n",
       "       2.340e+01, 9.000e-01, 2.620e+01, 1.454e+02, 8.430e+01, 3.682e+02,\n",
       "       1.270e+02, 9.230e+01, 3.138e+02, 1.300e+00, 2.410e+01, 1.000e+00,\n",
       "       2.670e+01, 1.478e+02, 8.780e+01, 3.754e+02, 1.314e+02, 9.550e+01,\n",
       "       3.181e+02, 2.400e+00, 2.360e+01, 2.580e+01])"
      ]
     },
     "execution_count": 6,
     "metadata": {},
     "output_type": "execute_result"
    }
   ],
   "source": [
    "y['rate'].unique()"
   ]
  },
  {
   "cell_type": "code",
   "execution_count": 7,
   "metadata": {},
   "outputs": [
    {
     "name": "stdout",
     "output_type": "stream",
     "text": [
      "['0-14 Years', '15-64 years', '65 years & over']\n"
     ]
    }
   ],
   "source": [
    "age_list = []\n",
    "for item in X['age'].unique():\n",
    "    age_list.append(item)\n",
    "print(age_list)"
   ]
  },
  {
   "cell_type": "code",
   "execution_count": 8,
   "metadata": {},
   "outputs": [
    {
     "data": {
      "text/html": [
       "<div>\n",
       "<style scoped>\n",
       "    .dataframe tbody tr th:only-of-type {\n",
       "        vertical-align: middle;\n",
       "    }\n",
       "\n",
       "    .dataframe tbody tr th {\n",
       "        vertical-align: top;\n",
       "    }\n",
       "\n",
       "    .dataframe thead th {\n",
       "        text-align: right;\n",
       "    }\n",
       "</style>\n",
       "<table border=\"1\" class=\"dataframe\">\n",
       "  <thead>\n",
       "    <tr style=\"text-align: right;\">\n",
       "      <th></th>\n",
       "      <th>year</th>\n",
       "      <th>facility_type_a</th>\n",
       "      <th>sex</th>\n",
       "      <th>age</th>\n",
       "      <th>year_encoded</th>\n",
       "      <th>Community Hospitals</th>\n",
       "      <th>Psychiatric Hospitals</th>\n",
       "      <th>Male</th>\n",
       "      <th>15-64 years</th>\n",
       "      <th>65 years &amp; over</th>\n",
       "    </tr>\n",
       "  </thead>\n",
       "  <tbody>\n",
       "    <tr>\n",
       "      <th>0</th>\n",
       "      <td>2009</td>\n",
       "      <td>Acute</td>\n",
       "      <td>Male</td>\n",
       "      <td>0-14 Years</td>\n",
       "      <td>0</td>\n",
       "      <td>0</td>\n",
       "      <td>0</td>\n",
       "      <td>1</td>\n",
       "      <td>0</td>\n",
       "      <td>0</td>\n",
       "    </tr>\n",
       "    <tr>\n",
       "      <th>1</th>\n",
       "      <td>2009</td>\n",
       "      <td>Acute</td>\n",
       "      <td>Male</td>\n",
       "      <td>15-64 years</td>\n",
       "      <td>0</td>\n",
       "      <td>0</td>\n",
       "      <td>0</td>\n",
       "      <td>1</td>\n",
       "      <td>1</td>\n",
       "      <td>0</td>\n",
       "    </tr>\n",
       "    <tr>\n",
       "      <th>2</th>\n",
       "      <td>2009</td>\n",
       "      <td>Acute</td>\n",
       "      <td>Male</td>\n",
       "      <td>65 years &amp; over</td>\n",
       "      <td>0</td>\n",
       "      <td>0</td>\n",
       "      <td>0</td>\n",
       "      <td>1</td>\n",
       "      <td>0</td>\n",
       "      <td>1</td>\n",
       "    </tr>\n",
       "    <tr>\n",
       "      <th>3</th>\n",
       "      <td>2009</td>\n",
       "      <td>Acute</td>\n",
       "      <td>Female</td>\n",
       "      <td>0-14 Years</td>\n",
       "      <td>0</td>\n",
       "      <td>0</td>\n",
       "      <td>0</td>\n",
       "      <td>0</td>\n",
       "      <td>0</td>\n",
       "      <td>0</td>\n",
       "    </tr>\n",
       "    <tr>\n",
       "      <th>4</th>\n",
       "      <td>2009</td>\n",
       "      <td>Acute</td>\n",
       "      <td>Female</td>\n",
       "      <td>15-64 years</td>\n",
       "      <td>0</td>\n",
       "      <td>0</td>\n",
       "      <td>0</td>\n",
       "      <td>0</td>\n",
       "      <td>1</td>\n",
       "      <td>0</td>\n",
       "    </tr>\n",
       "  </tbody>\n",
       "</table>\n",
       "</div>"
      ],
      "text/plain": [
       "   year facility_type_a     sex              age  year_encoded  \\\n",
       "0  2009           Acute    Male       0-14 Years             0   \n",
       "1  2009           Acute    Male      15-64 years             0   \n",
       "2  2009           Acute    Male  65 years & over             0   \n",
       "3  2009           Acute  Female       0-14 Years             0   \n",
       "4  2009           Acute  Female      15-64 years             0   \n",
       "\n",
       "   Community Hospitals  Psychiatric Hospitals  Male  15-64 years  \\\n",
       "0                    0                      0     1            0   \n",
       "1                    0                      0     1            1   \n",
       "2                    0                      0     1            0   \n",
       "3                    0                      0     0            0   \n",
       "4                    0                      0     0            1   \n",
       "\n",
       "   65 years & over  \n",
       "0                0  \n",
       "1                0  \n",
       "2                1  \n",
       "3                0  \n",
       "4                0  "
      ]
     },
     "execution_count": 8,
     "metadata": {},
     "output_type": "execute_result"
    }
   ],
   "source": [
    "from sklearn.preprocessing import LabelEncoder\n",
    "\n",
    "le = LabelEncoder()\n",
    "\n",
    "for item in X:\n",
    "    if len(X[item].unique()) > 8:\n",
    "        X[item+'_encoded'] = le.fit_transform(X[item])\n",
    "    elif len(X[item].unique()) >= 2 & len(X[item].unique()) < 5:\n",
    "        dummies = pd.get_dummies(X[item], drop_first=True)\n",
    "        X = pd.concat([X, dummies], axis=1)\n",
    "X.head()"
   ]
  },
  {
   "cell_type": "code",
   "execution_count": 9,
   "metadata": {},
   "outputs": [
    {
     "data": {
      "text/html": [
       "<div>\n",
       "<style scoped>\n",
       "    .dataframe tbody tr th:only-of-type {\n",
       "        vertical-align: middle;\n",
       "    }\n",
       "\n",
       "    .dataframe tbody tr th {\n",
       "        vertical-align: top;\n",
       "    }\n",
       "\n",
       "    .dataframe thead th {\n",
       "        text-align: right;\n",
       "    }\n",
       "</style>\n",
       "<table border=\"1\" class=\"dataframe\">\n",
       "  <thead>\n",
       "    <tr style=\"text-align: right;\">\n",
       "      <th></th>\n",
       "      <th>year_encoded</th>\n",
       "      <th>Community Hospitals</th>\n",
       "      <th>Psychiatric Hospitals</th>\n",
       "      <th>Male</th>\n",
       "      <th>15-64 years</th>\n",
       "      <th>65 years &amp; over</th>\n",
       "    </tr>\n",
       "  </thead>\n",
       "  <tbody>\n",
       "    <tr>\n",
       "      <th>0</th>\n",
       "      <td>0</td>\n",
       "      <td>0</td>\n",
       "      <td>0</td>\n",
       "      <td>1</td>\n",
       "      <td>0</td>\n",
       "      <td>0</td>\n",
       "    </tr>\n",
       "    <tr>\n",
       "      <th>1</th>\n",
       "      <td>0</td>\n",
       "      <td>0</td>\n",
       "      <td>0</td>\n",
       "      <td>1</td>\n",
       "      <td>1</td>\n",
       "      <td>0</td>\n",
       "    </tr>\n",
       "    <tr>\n",
       "      <th>2</th>\n",
       "      <td>0</td>\n",
       "      <td>0</td>\n",
       "      <td>0</td>\n",
       "      <td>1</td>\n",
       "      <td>0</td>\n",
       "      <td>1</td>\n",
       "    </tr>\n",
       "    <tr>\n",
       "      <th>3</th>\n",
       "      <td>0</td>\n",
       "      <td>0</td>\n",
       "      <td>0</td>\n",
       "      <td>0</td>\n",
       "      <td>0</td>\n",
       "      <td>0</td>\n",
       "    </tr>\n",
       "    <tr>\n",
       "      <th>4</th>\n",
       "      <td>0</td>\n",
       "      <td>0</td>\n",
       "      <td>0</td>\n",
       "      <td>0</td>\n",
       "      <td>1</td>\n",
       "      <td>0</td>\n",
       "    </tr>\n",
       "  </tbody>\n",
       "</table>\n",
       "</div>"
      ],
      "text/plain": [
       "   year_encoded  Community Hospitals  Psychiatric Hospitals  Male  \\\n",
       "0             0                    0                      0     1   \n",
       "1             0                    0                      0     1   \n",
       "2             0                    0                      0     1   \n",
       "3             0                    0                      0     0   \n",
       "4             0                    0                      0     0   \n",
       "\n",
       "   15-64 years  65 years & over  \n",
       "0            0                0  \n",
       "1            1                0  \n",
       "2            0                1  \n",
       "3            0                0  \n",
       "4            1                0  "
      ]
     },
     "execution_count": 9,
     "metadata": {},
     "output_type": "execute_result"
    }
   ],
   "source": [
    "final_X = X.iloc[:,4:]\n",
    "final_X.head()"
   ]
  },
  {
   "cell_type": "code",
   "execution_count": 10,
   "metadata": {},
   "outputs": [
    {
     "name": "stdout",
     "output_type": "stream",
     "text": [
      "158 40 158 40\n"
     ]
    }
   ],
   "source": [
    "from sklearn.model_selection import train_test_split\n",
    "\n",
    "X_train, X_test, y_train, y_test = train_test_split(final_X, y, test_size=0.2, random_state=11)\n",
    "print(len(X_train), len(X_test), len(y_train), len(y_test))"
   ]
  },
  {
   "cell_type": "code",
   "execution_count": 11,
   "metadata": {},
   "outputs": [],
   "source": [
    "from sklearn.linear_model import LinearRegression\n",
    "\n",
    "lr = LinearRegression()\n",
    "model = lr.fit(X_train, y_train)"
   ]
  },
  {
   "cell_type": "code",
   "execution_count": 12,
   "metadata": {},
   "outputs": [
    {
     "data": {
      "text/plain": [
       "array([[   0.7652981 , -167.65935252, -168.9954022 ,    5.07289789,\n",
       "         -13.77742675,   71.84752994]])"
      ]
     },
     "execution_count": 12,
     "metadata": {},
     "output_type": "execute_result"
    }
   ],
   "source": [
    "model.coef_"
   ]
  },
  {
   "cell_type": "code",
   "execution_count": 13,
   "metadata": {},
   "outputs": [
    {
     "data": {
      "text/plain": [
       "<bound method RegressorMixin.score of LinearRegression()>"
      ]
     },
     "execution_count": 13,
     "metadata": {},
     "output_type": "execute_result"
    }
   ],
   "source": [
    "predicted = model.predict(X_test)\n",
    "model.score"
   ]
  },
  {
   "cell_type": "code",
   "execution_count": 14,
   "metadata": {},
   "outputs": [
    {
     "data": {
      "image/png": "[encoded data removed]",
      "text/plain": [
       "<Figure size 432x288 with 1 Axes>"
      ]
     },
     "metadata": {
      "needs_background": "light"
     },
     "output_type": "display_data"
    }
   ],
   "source": [
    "from sklearn.model_selection import cross_val_predict\n",
    "import matplotlib.pyplot as plt\n",
    "\n",
    "# cross_val_predict returns an array of the same size as `y` where each entry\n",
    "# is a prediction obtained by cross validation:\n",
    "predicted = cross_val_predict(lr, X_train, y_train, cv=10)\n",
    "\n",
    "fig, ax = plt.subplots()\n",
    "ax.scatter(y_train, predicted)\n",
    "ax.plot([y_train.min(), y_train.max()], [y_train.min(), y_train.max()], 'k--', lw=4)\n",
    "ax.set_xlabel('Measured')\n",
    "ax.set_ylabel('Predicted')\n",
    "plt.show()"
   ]
  }
 ],
 "metadata": {
  "kernelspec": {
   "display_name": "Python 3",
   "language": "python",
   "name": "python3"
  },
  "language_info": {
   "codemirror_mode": {
    "name": "ipython",
    "version": 3
   },
   "file_extension": ".py",
   "mimetype": "text/x-python",
   "name": "python",
   "nbconvert_exporter": "python",
   "pygments_lexer": "ipython3",
   "version": "3.7.7"
  }
 },
 "nbformat": 4,
 "nbformat_minor": 4
}
